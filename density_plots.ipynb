{
 "cells": [
  {
   "cell_type": "markdown",
   "metadata": {},
   "source": [
    "This file contains the density plots per descriptor to check the importance per discriptor to allow for differentation between active and inactive inhibition for PKM-2 and ERK-2"
   ]
  },
  {
   "cell_type": "code",
   "execution_count": 13,
   "metadata": {},
   "outputs": [],
   "source": [
    "#imports\n",
    "import pandas as pd\n",
    "import matplotlib.pyplot as plt\n",
    "import seaborn as sns\n"
   ]
  },
  {
   "cell_type": "markdown",
   "metadata": {},
   "source": [
    "1. Initialize datasets required for the plots"
   ]
  },
  {
   "cell_type": "code",
   "execution_count": 14,
   "metadata": {},
   "outputs": [],
   "source": [
    "#Get inhibition data from 'tested_molecules.csv' and descriptor data from 'cleaned_descriptor_data'\n",
    "df_inhibition = pd.read_csv('tested_molecules.csv')\n",
    "df_descriptors = pd.read_csv('cleaned_descriptor_data')\n",
    "\n",
    "#(Only used for initial testing for a single descriptor) Slice descriptors dataset to only show the molecules and the first descriptor\n",
    "# df_descriptors = df_descriptors.iloc[:,:2]\n",
    "\n",
    "#(Optional) display both datasets\n",
    "# display(df_inhibition)\n",
    "# display(df_descriptors)"
   ]
  },
  {
   "cell_type": "markdown",
   "metadata": {},
   "source": [
    "2. Filter the datasets based on their inhibition properties"
   ]
  },
  {
   "cell_type": "code",
   "execution_count": 15,
   "metadata": {},
   "outputs": [],
   "source": [
    "#Split inihibition dataset into thee distinct datasets based on the inhibition activity for PKM-2 and ERK-2\n",
    "df_molecules_pkm2_inhibition = df_inhibition[df_inhibition['PKM2_inhibition'] == 1]['SMILES']\n",
    "df_molecules_erk2_inhibition = df_inhibition[df_inhibition['ERK2_inhibition'] == 1]['SMILES']\n",
    "\n",
    "df_molecules_pkm2_no_inhibition = df_inhibition[df_inhibition['PKM2_inhibition'] == 0]['SMILES']\n",
    "df_molecules_erk2_no_inhibition = df_inhibition[df_inhibition['ERK2_inhibition'] == 0]['SMILES']\n",
    "\n",
    "df_no_inhibition = df_inhibition[(df_inhibition['PKM2_inhibition'] == 0) & (df_inhibition['ERK2_inhibition'] == 0)]['SMILES']\n",
    "\n",
    "\n",
    "#Sort the descriptor dataset based on the PKM-2 and ERK-2 inhibition\n",
    "df_descriptor_pkm2 = df_descriptors[df_descriptors['SMILES'].isin(df_molecules_pkm2_inhibition)]\n",
    "df_descriptor_erk2 = df_descriptors[df_descriptors['SMILES'].isin(df_molecules_erk2_inhibition)]\n",
    "df_descriptor_no_inhibition = df_descriptors[df_descriptors['SMILES'].isin(df_no_inhibition)]\n",
    "#(Optional) display the filtered datasets\n",
    "#display(df_descriptor_pkm2)\n",
    "#display(df_descriptor_erk2)"
   ]
  },
  {
   "cell_type": "markdown",
   "metadata": {},
   "source": [
    "3. Plot the data"
   ]
  },
  {
   "cell_type": "code",
   "execution_count": 16,
   "metadata": {},
   "outputs": [
    {
     "name": "stderr",
     "output_type": "stream",
     "text": [
      "C:\\Users\\20212463\\AppData\\Local\\Temp\\ipykernel_11684\\3956450410.py:10: UserWarning: Dataset has 0 variance; skipping density estimate. Pass `warn_singular=False` to disable this warning.\n",
      "  sns.kdeplot(df_descriptor_erk2[descriptor], label = 'ERK-2', fill = True, color = 'Cyan')\n",
      "C:\\Users\\20212463\\AppData\\Local\\Temp\\ipykernel_11684\\3956450410.py:9: UserWarning: Dataset has 0 variance; skipping density estimate. Pass `warn_singular=False` to disable this warning.\n",
      "  sns.kdeplot(df_descriptor_pkm2[descriptor], label = 'PKM-2', fill = True, color = 'Orange')\n",
      "C:\\Users\\20212463\\AppData\\Local\\Temp\\ipykernel_11684\\3956450410.py:9: UserWarning: Dataset has 0 variance; skipping density estimate. Pass `warn_singular=False` to disable this warning.\n",
      "  sns.kdeplot(df_descriptor_pkm2[descriptor], label = 'PKM-2', fill = True, color = 'Orange')\n",
      "C:\\Users\\20212463\\AppData\\Local\\Temp\\ipykernel_11684\\3956450410.py:9: UserWarning: Dataset has 0 variance; skipping density estimate. Pass `warn_singular=False` to disable this warning.\n",
      "  sns.kdeplot(df_descriptor_pkm2[descriptor], label = 'PKM-2', fill = True, color = 'Orange')\n",
      "C:\\Users\\20212463\\AppData\\Local\\Temp\\ipykernel_11684\\3956450410.py:10: UserWarning: Dataset has 0 variance; skipping density estimate. Pass `warn_singular=False` to disable this warning.\n",
      "  sns.kdeplot(df_descriptor_erk2[descriptor], label = 'ERK-2', fill = True, color = 'Cyan')\n",
      "C:\\Users\\20212463\\AppData\\Local\\Temp\\ipykernel_11684\\3956450410.py:10: UserWarning: Dataset has 0 variance; skipping density estimate. Pass `warn_singular=False` to disable this warning.\n",
      "  sns.kdeplot(df_descriptor_erk2[descriptor], label = 'ERK-2', fill = True, color = 'Cyan')\n",
      "C:\\Users\\20212463\\AppData\\Local\\Temp\\ipykernel_11684\\3956450410.py:11: UserWarning: Dataset has 0 variance; skipping density estimate. Pass `warn_singular=False` to disable this warning.\n",
      "  sns.kdeplot(df_descriptor_no_inhibition[descriptor], label = 'No inhibition', fill = True, color = 'Purple')\n",
      "C:\\Users\\20212463\\AppData\\Local\\Temp\\ipykernel_11684\\3956450410.py:9: UserWarning: Dataset has 0 variance; skipping density estimate. Pass `warn_singular=False` to disable this warning.\n",
      "  sns.kdeplot(df_descriptor_pkm2[descriptor], label = 'PKM-2', fill = True, color = 'Orange')\n",
      "C:\\Users\\20212463\\AppData\\Local\\Temp\\ipykernel_11684\\3956450410.py:11: UserWarning: Dataset has 0 variance; skipping density estimate. Pass `warn_singular=False` to disable this warning.\n",
      "  sns.kdeplot(df_descriptor_no_inhibition[descriptor], label = 'No inhibition', fill = True, color = 'Purple')\n"
     ]
    }
   ],
   "source": [
    "#Plot the datasets in one density plot\n",
    "plt.figure(figsize=(30, 90)) # Set total figure size\n",
    "for index, descriptor in enumerate(df_descriptors.iloc[:,1:]): #'enumerate' itterates over all column names where index represents the it's index number and descriptor represents the descriptor name\n",
    "    plt.subplot(20, 6, index + 1) #Move to next plot position and set the subplot size\n",
    "\n",
    "    # Plots an estimation of the density (amount of times each value is found in the descriptor column) of the values, \n",
    "    # over the distribution of the values found in the column for both PKM-2 and ERK-2 inhibition. If there is little to no\n",
    "    # overlap, a clear distinction can be made between the resulting descriptor value and inhibition type.\n",
    "    sns.kdeplot(df_descriptor_pkm2[descriptor], label = 'PKM-2', fill = True, color = 'Orange')\n",
    "    sns.kdeplot(df_descriptor_erk2[descriptor], label = 'ERK-2', fill = True, color = 'Cyan')\n",
    "    sns.kdeplot(df_descriptor_no_inhibition[descriptor], label = 'No inhibition', fill = True, color = 'Purple')\n",
    "\n",
    "\n",
    "    # Plot stuff\n",
    "    plt.title(descriptor)\n",
    "    plt.xlabel('value distribution')\n",
    "    plt.ylabel('Density')\n",
    "    plt.legend()\n",
    "plt.tight_layout()\n",
    "\n",
    "plt.show()"
   ]
  }
 ],
 "metadata": {
  "kernelspec": {
   "display_name": "Python 3",
   "language": "python",
   "name": "python3"
  },
  "language_info": {
   "codemirror_mode": {
    "name": "ipython",
    "version": 3
   },
   "file_extension": ".py",
   "mimetype": "text/x-python",
   "name": "python",
   "nbconvert_exporter": "python",
   "pygments_lexer": "ipython3",
   "version": "3.12.3"
  }
 },
 "nbformat": 4,
 "nbformat_minor": 2
}
