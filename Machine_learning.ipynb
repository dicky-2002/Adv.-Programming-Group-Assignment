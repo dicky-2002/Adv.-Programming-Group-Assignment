{
 "cells": [
  {
   "cell_type": "code",
   "execution_count": 1,
   "metadata": {},
   "outputs": [
    {
     "name": "stdout",
     "output_type": "stream",
     "text": [
      "Requirement already satisfied: imblearn in c:\\programdata\\anaconda3\\lib\\site-packages (0.0)\n",
      "Requirement already satisfied: imbalanced-learn in c:\\users\\20223554\\appdata\\roaming\\python\\python38\\site-packages (from imblearn) (0.12.3)\n",
      "Requirement already satisfied: scikit-learn>=1.0.2 in c:\\users\\20223554\\appdata\\roaming\\python\\python38\\site-packages (from imbalanced-learn->imblearn) (1.3.2)\n",
      "Requirement already satisfied: joblib>=1.1.1 in c:\\users\\20223554\\appdata\\roaming\\python\\python38\\site-packages (from imbalanced-learn->imblearn) (1.4.2)\n",
      "Requirement already satisfied: numpy>=1.17.3 in c:\\programdata\\anaconda3\\lib\\site-packages (from imbalanced-learn->imblearn) (1.20.1)\n",
      "Requirement already satisfied: scipy>=1.5.0 in c:\\programdata\\anaconda3\\lib\\site-packages (from imbalanced-learn->imblearn) (1.6.2)\n",
      "Requirement already satisfied: threadpoolctl>=2.0.0 in c:\\programdata\\anaconda3\\lib\\site-packages (from imbalanced-learn->imblearn) (2.1.0)\n",
      "Note: you may need to restart the kernel to use updated packages.\n"
     ]
    }
   ],
   "source": [
    "pip install imblearn"
   ]
  },
  {
   "cell_type": "code",
   "execution_count": 44,
   "metadata": {},
   "outputs": [],
   "source": [
    "import pandas as pd\n",
    "import numpy as np\n",
    "import seaborn as sns\n",
    "import matplotlib.pyplot as plt \n",
    "from imblearn.over_sampling import SMOTE\n",
    "\n",
    "from sklearn.model_selection import train_test_split\n",
    "from sklearn.preprocessing import MinMaxScaler\n",
    "from sklearn.model_selection import cross_val_score, StratifiedKFold\n",
    "\n",
    "\n",
    "from sklearn.feature_selection import SelectKBest, chi2\n",
    "\n",
    "from sklearn.decomposition import PCA\n",
    "\n",
    "from sklearn.linear_model import Lasso\n",
    "\n",
    "from sklearn.model_selection import cross_validate, cross_val_score\n",
    "from sklearn.model_selection import RepeatedStratifiedKFold\n",
    "from sklearn.feature_selection import RFE, RFECV\n",
    "from sklearn.pipeline import Pipeline\n",
    "from sklearn.ensemble import RandomForestClassifier\n",
    "\n",
    "from pandas.plotting import scatter_matrix \n",
    "from sklearn.metrics import confusion_matrix"
   ]
  },
  {
   "cell_type": "markdown",
   "metadata": {},
   "source": [
    "## load tested data\n"
   ]
  },
  {
   "cell_type": "code",
   "execution_count": 5,
   "metadata": {},
   "outputs": [],
   "source": [
    "# Load the data from the .csv file\n",
    "data = pd.read_csv('cleaned_descriptor_data',index_col=0)\n",
    "\n",
    "# Scale the data with a standard scaling\n",
    "scaling=MinMaxScaler()\n",
    "scaling.fit(data)\n",
    "scaled_data=scaling.transform(data)\n",
    "df_data = pd.DataFrame(scaled_data, columns=data.columns,index=data.index)\n",
    "\n",
    "# Choose the kinase of which you want to predict the inhibition\n",
    "#selected_kinase = 'ERK2_inhibition'\n",
    "selected_kinase = 'PKM2_inhibition'     # Or 'ERK2_inhibition'\n",
    "\n",
    "# Define train and test data\n",
    "X = df_data.drop(columns=['ERK2_inhibition','PKM2_inhibition']).copy()\n",
    "y = data[selected_kinase].copy()\n"
   ]
  },
  {
   "cell_type": "code",
   "execution_count": 6,
   "metadata": {},
   "outputs": [],
   "source": [
    "X_fingerprints=pd.read_csv('fingerprint_data',index_col=0)"
   ]
  },
  {
   "cell_type": "markdown",
   "metadata": {},
   "source": [
    "## Load untested data"
   ]
  },
  {
   "cell_type": "code",
   "execution_count": 7,
   "metadata": {},
   "outputs": [],
   "source": [
    "untested_molecules=pd.read_csv('cleaned_descriptor_data_untested',index_col=0)\n",
    "untested_molecules.head()\n",
    "X_untested=untested_molecules.drop(columns=['ERK2_inhibition','PKM2_inhibition']).copy()\n",
    "y_untested=untested_molecules[selected_kinase].copy()\n"
   ]
  },
  {
   "cell_type": "code",
   "execution_count": 8,
   "metadata": {},
   "outputs": [],
   "source": [
    "X_untested_fingerprints=pd.read_csv('fingerprint_data_untested',index_col=0)"
   ]
  },
  {
   "cell_type": "markdown",
   "metadata": {},
   "source": [
    "## Recursive Feature Exclusion"
   ]
  },
  {
   "cell_type": "code",
   "execution_count": 13,
   "metadata": {},
   "outputs": [
    {
     "name": "stdout",
     "output_type": "stream",
     "text": [
      "Index(['MaxAbsEStateIndex', 'MinEStateIndex', 'qed', 'SPS', 'MinPartialCharge',\n",
      "       'FpDensityMorgan1', 'FpDensityMorgan2', 'FpDensityMorgan3',\n",
      "       'BCUT2D_MWHI', 'BCUT2D_MWLOW', 'BCUT2D_CHGHI', 'BCUT2D_CHGLO',\n",
      "       'BCUT2D_LOGPHI', 'BCUT2D_LOGPLOW', 'BCUT2D_MRHI', 'BCUT2D_MRLOW',\n",
      "       'AvgIpc', 'BalabanJ', 'BertzCT', 'Chi0n', 'Chi3v', 'HallKierAlpha',\n",
      "       'Ipc', 'Kappa1', 'PEOE_VSA1', 'PEOE_VSA10', 'PEOE_VSA5', 'PEOE_VSA7',\n",
      "       'SMR_VSA10', 'SMR_VSA3', 'SMR_VSA6', 'SMR_VSA7', 'SMR_VSA9',\n",
      "       'SlogP_VSA2', 'SlogP_VSA5', 'SlogP_VSA6', 'TPSA', 'EState_VSA3',\n",
      "       'EState_VSA5', 'EState_VSA6', 'VSA_EState1', 'VSA_EState2',\n",
      "       'VSA_EState4', 'VSA_EState5', 'VSA_EState6', 'VSA_EState9',\n",
      "       'NumAromaticHeterocycles', 'MolLogP', 'fr_Ar_N', 'fr_sulfonamd'],\n",
      "      dtype='object')\n"
     ]
    }
   ],
   "source": [
    "rfe = RFE(RandomForestClassifier(), n_features_to_select=50)\n",
    "rfe.fit(X, y)\n",
    "selected_features = X.columns[rfe.support_]\n",
    "print(selected_features)"
   ]
  },
  {
   "cell_type": "code",
   "execution_count": 14,
   "metadata": {},
   "outputs": [],
   "source": [
    "X_cleaned=X[selected_features]\n",
    "X_untested_cleaned=X_untested[selected_features]"
   ]
  },
  {
   "cell_type": "markdown",
   "metadata": {},
   "source": [
    "# Random forests"
   ]
  },
  {
   "cell_type": "markdown",
   "metadata": {},
   "source": [
    "## Random forest with descriptors evaluation"
   ]
  },
  {
   "cell_type": "code",
   "execution_count": 48,
   "metadata": {},
   "outputs": [
    {
     "name": "stdout",
     "output_type": "stream",
     "text": [
      "Ratio of 0 and 1 inhibitors in the balanced training set:\n",
      "0    0.5\n",
      "1    0.5\n",
      "Name: PKM2_inhibition, dtype: float64\n",
      "\n",
      "Ratio of 0 and 1 inhibitors in the testing set:\n",
      "0    0.973214\n",
      "1    0.026786\n",
      "Name: PKM2_inhibition, dtype: float64\n",
      "Cross-Validation Scores: [0.98965517 0.9954023 ]\n",
      "Mean Accuracy: 0.99 +/- 0.00\n",
      "Confusion Matrix:\n",
      "[[216   2]\n",
      " [  5   1]]\n"
     ]
    }
   ],
   "source": [
    "# Split the data into training and test sets\n",
    "X_train, X_test, y_train, y_test = train_test_split(X_cleaned, y, test_size=0.2)\n",
    "\n",
    "# Apply SMOTE to balance the training set\n",
    "smote = SMOTE(random_state=42)\n",
    "X_train_balanced, y_train_balanced = smote.fit_resample(X_train, y_train)\n",
    "\n",
    "# Calculate the ratio between 0 and 1 in the balanced training set and the test set\n",
    "ratio_train_balanced = y_train_balanced.value_counts(normalize=True)\n",
    "ratio_test = y_test.value_counts(normalize=True)\n",
    "\n",
    "print(\"Ratio of 0 and 1 inhibitors in the balanced training set:\")\n",
    "print(ratio_train_balanced)\n",
    "print(\"\\nRatio of 0 and 1 inhibitors in the testing set:\")\n",
    "print(ratio_test)\n",
    "\n",
    "# Train the Random Forest model with the balanced training set\n",
    "rf_descriptors = RandomForestClassifier(n_estimators=1100)\n",
    "\n",
    "# Perform cross-validation\n",
    "num_folds = 2\n",
    "cv = StratifiedKFold(n_splits=num_folds, shuffle=True)\n",
    "cv_scores = cross_val_score(rf_descriptors, X_train_balanced, y_train_balanced, cv=cv, scoring='accuracy')\n",
    "\n",
    "print(f'Cross-Validation Scores: {cv_scores}')\n",
    "print(f'Mean Accuracy: {cv_scores.mean():.2f} +/- {cv_scores.std():.2f}')\n",
    "\n",
    "rf_descriptors.fit(X_train_balanced, y_train_balanced)\n",
    "y_pred = rf_descriptors.predict(X_test)\n",
    "\n",
    "# Evaluate the model using a confusion matrix\n",
    "conf_mat = confusion_matrix(y_test, y_pred)\n",
    "print(\"Confusion Matrix:\")\n",
    "print(conf_mat)\n"
   ]
  },
  {
   "cell_type": "markdown",
   "metadata": {},
   "source": [
    "## Random forest with fingerprints evaluation"
   ]
  },
  {
   "cell_type": "code",
   "execution_count": 50,
   "metadata": {},
   "outputs": [
    {
     "name": "stdout",
     "output_type": "stream",
     "text": [
      "Ratio of 0 and 1 inhibitors in the training set:\n",
      "0    0.5\n",
      "1    0.5\n",
      "Name: PKM2_inhibition, dtype: float64\n",
      "\n",
      "Ratio of 0 and 1 inhibitors in the testing set:\n",
      "0    0.973214\n",
      "1    0.026786\n",
      "Name: PKM2_inhibition, dtype: float64\n",
      "Cross-Validation Scores: [0.98275862 0.9908046 ]\n",
      "Mean Accuracy: 0.99 +/- 0.00\n",
      "[[218   0]\n",
      " [  6   0]]\n"
     ]
    }
   ],
   "source": [
    "X_train, X_test, y_train, y_test = train_test_split(X_fingerprints, y, test_size=0.2)\n",
    "\n",
    "# Apply SMOTE to balance the training set\n",
    "smote = SMOTE(random_state=42)\n",
    "X_train_balanced_finger, y_train_balanced_finger = smote.fit_resample(X_train, y_train)\n",
    "\n",
    "# Calculate the ratio between 0 and 1 in the balanced training set and the test set\n",
    "ratio_train_balanced_finger = y_train_balanced_finger.value_counts(normalize=True)\n",
    "ratio_test_finger = y_test.value_counts(normalize=True)\n",
    "\n",
    "print(\"Ratio of 0 and 1 inhibitors in the training set:\")\n",
    "print(ratio_train_balanced_finger)\n",
    "print(\"\\nRatio of 0 and 1 inhibitors in the testing set:\")\n",
    "print(ratio_test_finger)\n",
    "\n",
    "rf_fingerprints= RandomForestClassifier(n_estimators=1100)\n",
    "\n",
    "# Perform cross-validation\n",
    "num_folds = 2\n",
    "cv = StratifiedKFold(n_splits=num_folds, shuffle=True)\n",
    "cv_scores = cross_val_score(rf_fingerprints, X_train_balanced_finger, y_train_balanced_finger, cv=cv, scoring='accuracy')\n",
    "\n",
    "print(f'Cross-Validation Scores: {cv_scores}')\n",
    "print(f'Mean Accuracy: {cv_scores.mean():.2f} +/- {cv_scores.std():.2f}')\n",
    "\n",
    "rf_fingerprints.fit(X_train, y_train)\n",
    "y_pred = rf_fingerprints.predict(X_test)\n",
    "\n",
    "conf_mat = confusion_matrix(y_test, y_pred)\n",
    "print(conf_mat)\n"
   ]
  },
  {
   "cell_type": "markdown",
   "metadata": {},
   "source": [
    "## Random forest with descriptors on actual data"
   ]
  },
  {
   "cell_type": "code",
   "execution_count": 37,
   "metadata": {},
   "outputs": [],
   "source": [
    "rf_descriptors = RandomForestClassifier(n_estimators=1100)\n",
    "rf_descriptors.fit(X_cleaned, y)\n",
    "y_pred_descriptor = rf_descriptors.predict(X_untested_cleaned)\n",
    "df_y_pred_descriptor=pd.DataFrame(y_pred_descriptor,index=X.index)\n"
   ]
  },
  {
   "cell_type": "markdown",
   "metadata": {},
   "source": [
    "## Random forest with fingerprints on actual data"
   ]
  },
  {
   "cell_type": "code",
   "execution_count": 38,
   "metadata": {},
   "outputs": [],
   "source": [
    "rf_fingerprints = RandomForestClassifier(n_estimators=1100)\n",
    "rf_fingerprints.fit(X_fingerprints, y)\n",
    "y_pred_fingerprint = rf_descriptors.predict(X_untested_cleaned)\n",
    "df_y_pred_fingerprint=pd.DataFrame(y_pred_descriptor,index=X.index)"
   ]
  },
  {
   "cell_type": "markdown",
   "metadata": {},
   "source": [
    "## Intersect"
   ]
  },
  {
   "cell_type": "code",
   "execution_count": 40,
   "metadata": {},
   "outputs": [
    {
     "data": {
      "text/plain": [
       "Index(['C=CCOn1c(=O)c(C)[n+]([O-])c2ccccc21', 'C=CCn1cc(Cl)c(=O)n(CC=C)c1=O',\n",
       "       'CCc1nnc(NCn2nc(C)cc2C)s1', 'COc1cccc(OC[C@H](O)CO)c1',\n",
       "       'CSc1nnc2c(n1)OC(C)=Nc1ccccc1-2', 'Cc1csc2nc(=O)c(-c3ccccc3)nn12',\n",
       "       'N#CCSc1nnc(N)s1', 'Nc1nc2sc3c(c2c(=O)s1)CCCC3',\n",
       "       'O=C([O-])CCSc1nnnn1-c1ccccc1', 'O=c1c(-c2ccccc2)[n+]([O-])c2ccccc2n1O',\n",
       "       ...\n",
       "       'COCCSc1ccccc1C(=O)Nc1cc(C)on1', 'C=CCNc1nc(NCc2ccco2)nc(OCC)n1',\n",
       "       'c1ccc(COc2nsnc2N2CCOCC2)cc1',\n",
       "       'Cc1cc(C)n2cc(CSc3nnnn3-c3ccc(Cl)cc3)[nH+]c2n1',\n",
       "       'Cc1cc(NC(=O)CSc2nnc(-c3ccoc3C)o2)no1',\n",
       "       'c1ccc2c(c1)ncn2Cc1nnc2sc(-c3ccncc3)nn12',\n",
       "       'O=C(COc1ccc(Cl)cc1)Nc1nc(-c2cccs2)cs1',\n",
       "       'O=C1OCC2=C1[C@@H](c1ccc3c(c1)OCO3)Sc1ccccc1N2',\n",
       "       'c1ccc(-c2csc(N3CCN(c4ccccn4)CC3)n2)cc1',\n",
       "       'c1ccc(C2=Nn3c(nnc3-c3cc(-c4ccccc4)n[nH]3)SC2)cc1'],\n",
       "      dtype='object', name='SMILES', length=189)"
      ]
     },
     "execution_count": 40,
     "metadata": {},
     "output_type": "execute_result"
    }
   ],
   "source": [
    "intersect=X[(df_y_pred_descriptor[0]==1)&(df_y_pred_fingerprint[0]==1)].index\n",
    "intersect"
   ]
  }
 ],
 "metadata": {
  "kernelspec": {
   "display_name": "base",
   "language": "python",
   "name": "python3"
  },
  "language_info": {
   "codemirror_mode": {
    "name": "ipython",
    "version": 3
   },
   "file_extension": ".py",
   "mimetype": "text/x-python",
   "name": "python",
   "nbconvert_exporter": "python",
   "pygments_lexer": "ipython3",
   "version": "3.8.8"
  }
 },
 "nbformat": 4,
 "nbformat_minor": 2
}
