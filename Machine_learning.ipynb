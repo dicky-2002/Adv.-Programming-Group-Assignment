{
 "cells": [
  {
   "cell_type": "code",
   "execution_count": 82,
   "metadata": {},
   "outputs": [],
   "source": [
    "import pandas as pd\n",
    "import numpy as np\n",
    "import seaborn as sns\n",
    "import matplotlib.pyplot as plt \n",
    "from imblearn.over_sampling import SMOTE\n",
    "from imblearn.pipeline import Pipeline as imbpipeline\n",
    "\n",
    "from sklearn.model_selection import train_test_split\n",
    "from sklearn.preprocessing import MinMaxScaler\n",
    "from sklearn.model_selection import cross_val_score, StratifiedKFold, GridSearchCV\n",
    "from sklearn.metrics import classification_report\n",
    "\n",
    "from sklearn.feature_selection import SelectKBest, chi2\n",
    "\n",
    "from sklearn.decomposition import PCA\n",
    "\n",
    "from sklearn.linear_model import Lasso\n",
    "\n",
    "from sklearn.model_selection import cross_validate, cross_val_score\n",
    "from sklearn.model_selection import RepeatedStratifiedKFold\n",
    "from sklearn.feature_selection import RFE, RFECV\n",
    "from sklearn.pipeline import Pipeline\n",
    "from sklearn.ensemble import RandomForestClassifier\n",
    "\n",
    "from pandas.plotting import scatter_matrix \n",
    "from sklearn.metrics import confusion_matrix"
   ]
  },
  {
   "cell_type": "markdown",
   "metadata": {},
   "source": [
    "## load tested data\n"
   ]
  },
  {
   "cell_type": "code",
   "execution_count": 83,
   "metadata": {},
   "outputs": [],
   "source": [
    "# Load the data from the .csv file\n",
    "data = pd.read_csv('cleaned_descriptor_data',index_col=0)\n",
    "X_fingerprints=pd.read_csv('fingerprint_data',index_col=0)\n",
    "\n",
    "# Scale the data with a standard scaling\n",
    "scaling=MinMaxScaler()\n",
    "scaling.fit(data)\n",
    "scaled_data=scaling.transform(data)\n",
    "df_data = pd.DataFrame(scaled_data, columns=data.columns,index=data.index)\n",
    "\n",
    "# Choose the kinase of which you want to predict the inhibition\n",
    "kinase_ERK2 = 'ERK2_inhibition'\n",
    "kinase_PKM2 = 'PKM2_inhibition'    \n",
    "\n",
    "# Define train and test data\n",
    "X = df_data.drop(columns=['ERK2_inhibition','PKM2_inhibition']).copy()\n",
    "y_pkm2 = data[kinase_PKM2].copy()\n",
    "y_erk2 = data[kinase_ERK2].copy()\n"
   ]
  },
  {
   "cell_type": "markdown",
   "metadata": {},
   "source": [
    "## Load untested data"
   ]
  },
  {
   "cell_type": "code",
   "execution_count": 84,
   "metadata": {},
   "outputs": [],
   "source": [
    "untested_molecules=pd.read_csv('cleaned_descriptor_data_untested',index_col=0)\n",
    "untested_molecules.head()\n",
    "X_untested=untested_molecules.drop(columns=['ERK2_inhibition','PKM2_inhibition']).copy()\n",
    "\n",
    "y_untested_erk2=untested_molecules[kinase_ERK2].copy()\n",
    "y_untested_pkm2=untested_molecules[kinase_PKM2].copy()"
   ]
  },
  {
   "cell_type": "code",
   "execution_count": 85,
   "metadata": {},
   "outputs": [],
   "source": [
    "X_untested_fingerprints=pd.read_csv('fingerprint_data_untested',index_col=0)"
   ]
  },
  {
   "cell_type": "markdown",
   "metadata": {},
   "source": [
    "## Recursive Feature Exclusion"
   ]
  },
  {
   "cell_type": "code",
   "execution_count": 90,
   "metadata": {},
   "outputs": [
    {
     "name": "stdout",
     "output_type": "stream",
     "text": [
      "Index(['MaxAbsEStateIndex', 'MinEStateIndex', 'qed', 'SPS', 'HeavyAtomMolWt',\n",
      "       'MinPartialCharge', 'MinAbsPartialCharge', 'FpDensityMorgan1',\n",
      "       'FpDensityMorgan2', 'FpDensityMorgan3', 'BCUT2D_MWHI', 'BCUT2D_MWLOW',\n",
      "       'BCUT2D_CHGHI', 'BCUT2D_CHGLO', 'BCUT2D_LOGPHI', 'BCUT2D_MRHI',\n",
      "       'BCUT2D_MRLOW', 'AvgIpc', 'BalabanJ', 'BertzCT', 'Chi0n', 'Chi3n',\n",
      "       'Chi3v', 'HallKierAlpha', 'Ipc', 'Kappa1', 'PEOE_VSA1', 'PEOE_VSA11',\n",
      "       'PEOE_VSA5', 'PEOE_VSA7', 'PEOE_VSA9', 'SMR_VSA10', 'SMR_VSA3',\n",
      "       'SMR_VSA6', 'SMR_VSA7', 'SMR_VSA9', 'SlogP_VSA2', 'SlogP_VSA3',\n",
      "       'EState_VSA2', 'EState_VSA3', 'EState_VSA6', 'VSA_EState1',\n",
      "       'VSA_EState2', 'VSA_EState3', 'VSA_EState5', 'VSA_EState6',\n",
      "       'VSA_EState9', 'NumAromaticHeterocycles', 'MolLogP', 'fr_Ar_N'],\n",
      "      dtype='object')\n",
      "Index(['MaxAbsEStateIndex', 'MinAbsEStateIndex', 'MinEStateIndex', 'qed',\n",
      "       'SPS', 'MinPartialCharge', 'MinAbsPartialCharge', 'FpDensityMorgan1',\n",
      "       'BCUT2D_MWHI', 'BCUT2D_MWLOW', 'BCUT2D_CHGHI', 'BCUT2D_CHGLO',\n",
      "       'BCUT2D_LOGPHI', 'BCUT2D_LOGPLOW', 'BCUT2D_MRHI', 'BCUT2D_MRLOW',\n",
      "       'AvgIpc', 'BalabanJ', 'BertzCT', 'Chi0n', 'Chi3v', 'HallKierAlpha',\n",
      "       'PEOE_VSA6', 'PEOE_VSA7', 'PEOE_VSA8', 'PEOE_VSA9', 'SMR_VSA1',\n",
      "       'SMR_VSA10', 'SMR_VSA6', 'SMR_VSA7', 'SMR_VSA9', 'SlogP_VSA1',\n",
      "       'SlogP_VSA2', 'SlogP_VSA5', 'SlogP_VSA6', 'TPSA', 'EState_VSA3',\n",
      "       'EState_VSA4', 'EState_VSA7', 'VSA_EState1', 'VSA_EState2',\n",
      "       'VSA_EState3', 'VSA_EState4', 'VSA_EState5', 'VSA_EState6',\n",
      "       'VSA_EState7', 'VSA_EState8', 'VSA_EState9', 'MolLogP', 'fr_ether'],\n",
      "      dtype='object')\n"
     ]
    }
   ],
   "source": [
    "rfe_pmk = RFE(RandomForestClassifier(), n_features_to_select=50)\n",
    "rfe_pmk.fit(X, y_pkm2)\n",
    "selected_features_pmk = X.columns[rfe_pmk.support_]\n",
    "print(selected_features_pmk)\n",
    "\n",
    "rfe_erk = RFE(RandomForestClassifier(), n_features_to_select=50)\n",
    "rfe_erk.fit(X, y_erk2)\n",
    "selected_features_erk = X.columns[rfe_erk.support_]\n",
    "print(selected_features_erk)"
   ]
  },
  {
   "cell_type": "code",
   "execution_count": 91,
   "metadata": {},
   "outputs": [],
   "source": [
    "X_cleaned_pmk=X[selected_features_pmk]\n",
    "X_untested_cleaned_pmk=X_untested[selected_features_pmk]\n",
    "\n",
    "X_cleaned_erk=X[selected_features_erk]\n",
    "X_untested_cleaned_erk=X_untested[selected_features_erk]"
   ]
  },
  {
   "cell_type": "markdown",
   "metadata": {},
   "source": [
    "# Random forests"
   ]
  },
  {
   "cell_type": "markdown",
   "metadata": {},
   "source": [
    "## Random forest with descriptors evaluation"
   ]
  },
  {
   "cell_type": "markdown",
   "metadata": {},
   "source": [
    "### Find n_estimators"
   ]
  },
  {
   "cell_type": "code",
   "execution_count": 121,
   "metadata": {},
   "outputs": [
    {
     "name": "stdout",
     "output_type": "stream",
     "text": [
      "400\n",
      "300\n"
     ]
    }
   ],
   "source": [
    "# ERK2\n",
    "X_train, X_test, y_train, y_test = train_test_split(X_cleaned_erk, y_erk2, test_size=0.2, stratify=y_erk2, random_state=40)\n",
    "\n",
    "pipeline = imbpipeline(steps = [['smote', SMOTE(random_state=10)],['classifier', RandomForestClassifier()]])\n",
    "\n",
    "stratified_kfold = StratifiedKFold(n_splits=5, shuffle=True, random_state=40)\n",
    "    \n",
    "param_grid = {'classifier__n_estimators':[100, 200, 300, 400, 500, 600]}\n",
    "grid_search = GridSearchCV(estimator=pipeline, param_grid=param_grid, scoring='recall', cv=stratified_kfold, n_jobs=-1)\n",
    "\n",
    "grid_search.fit(X_train, y_train)\n",
    "n_estimators_erk = grid_search.best_params_['classifier__n_estimators']\n",
    "print(n_estimators_erk)\n",
    "\n",
    "# PMK2\n",
    "X_train_pmk, X_test_pmk, y_train_pmk, y_test_pmk = train_test_split(X_cleaned_pmk, y_pkm2, test_size=0.2, stratify=y_pkm2, random_state=40)\n",
    "\n",
    "pipeline = imbpipeline(steps = [['smote', SMOTE(random_state=10)],['classifier', RandomForestClassifier()]])\n",
    "\n",
    "stratified_kfold = StratifiedKFold(n_splits=5, shuffle=True, random_state=40)\n",
    "    \n",
    "param_grid = {'classifier__n_estimators':[100, 200, 300, 400, 500, 600]}\n",
    "grid_search = GridSearchCV(estimator=pipeline, param_grid=param_grid, scoring='recall', cv=stratified_kfold, n_jobs=-1)\n",
    "\n",
    "grid_search.fit(X_train_pmk, y_train_pmk)\n",
    "n_estimators_pmk = grid_search.best_params_['classifier__n_estimators']\n",
    "print(n_estimators_pmk)\n"
   ]
  },
  {
   "cell_type": "code",
   "execution_count": 126,
   "metadata": {},
   "outputs": [
    {
     "name": "stdout",
     "output_type": "stream",
     "text": [
      "Ratio of 0 and 1 inhibitors in the balanced training set:\n",
      "0    0.5\n",
      "1    0.5\n",
      "Name: ERK2_inhibition, dtype: float64\n",
      "\n",
      "Ratio of 0 and 1 inhibitors in the testing set:\n",
      "0    0.955357\n",
      "1    0.044643\n",
      "Name: ERK2_inhibition, dtype: float64\n",
      "Cross-Validation Scores: [0.98117647 0.99061033]\n",
      "Confusion Matrix:\n",
      "[[212   2]\n",
      " [ 10   0]]\n",
      "              precision    recall  f1-score   support\n",
      "\n",
      "           0       0.95      0.99      0.97       214\n",
      "           1       0.00      0.00      0.00        10\n",
      "\n",
      "    accuracy                           0.95       224\n",
      "   macro avg       0.48      0.50      0.49       224\n",
      "weighted avg       0.91      0.95      0.93       224\n",
      "\n",
      "Ratio of 0 and 1 inhibitors in the balanced training set:\n",
      "0    0.5\n",
      "1    0.5\n",
      "Name: PKM2_inhibition, dtype: float64\n",
      "\n",
      "Ratio of 0 and 1 inhibitors in the testing set:\n",
      "0    0.977679\n",
      "1    0.022321\n",
      "Name: PKM2_inhibition, dtype: float64\n",
      "Cross-Validation Scores: [1. 1.]\n",
      "Confusion Matrix:\n",
      "[[218   1]\n",
      " [  5   0]]\n",
      "              precision    recall  f1-score   support\n",
      "\n",
      "           0       0.98      1.00      0.99       219\n",
      "           1       0.00      0.00      0.00         5\n",
      "\n",
      "    accuracy                           0.97       224\n",
      "   macro avg       0.49      0.50      0.49       224\n",
      "weighted avg       0.96      0.97      0.96       224\n",
      "\n"
     ]
    }
   ],
   "source": [
    "#ERK2:\n",
    "# Split the data into training and test sets\n",
    "X_train_erk, X_test_erk, y_train_erk, y_test_erk = train_test_split(X_cleaned_erk, y_erk2, test_size=0.2)\n",
    "\n",
    "# Apply SMOTE to balance the training set\n",
    "smote_erk = SMOTE(random_state=40)\n",
    "X_train_balanced_erk, y_train_balanced_erk = smote_erk.fit_resample(X_train_erk, y_train_erk)\n",
    "\n",
    "# Calculate the ratio between 0 and 1 in the balanced training set and the test set\n",
    "ratio_train_balanced_erk = y_train_balanced_erk.value_counts(normalize=True)\n",
    "ratio_test_erk = y_test_erk.value_counts(normalize=True)\n",
    "\n",
    "print(\"Ratio of 0 and 1 inhibitors in the balanced training set:\")\n",
    "print(ratio_train_balanced_erk)\n",
    "print(\"\\nRatio of 0 and 1 inhibitors in the testing set:\")\n",
    "print(ratio_test_erk)\n",
    "\n",
    "# Train the Random Forest model with the balanced training set\n",
    "rf_descriptors = RandomForestClassifier(n_estimators_erk)\n",
    "\n",
    "# Perform cross-validation\n",
    "cv = StratifiedKFold(n_splits=2, shuffle=False)\n",
    "cv_scores = cross_val_score(rf_descriptors, X_train_balanced_erk, y_train_balanced_erk, cv=cv, scoring='recall')\n",
    "\n",
    "print(f'Cross-Validation Scores: {cv_scores}')\n",
    "\n",
    "rf_descriptors.fit(X_train_balanced_erk, y_train_balanced_erk)\n",
    "y_pred_erk = rf_descriptors.predict(X_test_erk)\n",
    "\n",
    "# Evaluate the model using a confusion matrix\n",
    "conf_mat_erk = confusion_matrix(y_test_erk, y_pred_erk)\n",
    "print(\"Confusion Matrix:\")\n",
    "print(conf_mat_erk)\n",
    "print(classification_report(y_test_erk, y_pred_erk))\n",
    "\n",
    "\n",
    "#PMK:\n",
    "# Split the data into training and test sets\n",
    "X_train_pmk, X_test_pmk, y_train_pmk, y_test_pmk = train_test_split(X_cleaned_pmk, y_pkm2, test_size=0.2)\n",
    "\n",
    "# Apply SMOTE to balance the training set\n",
    "smote_pmk = SMOTE(random_state=40)\n",
    "X_train_balanced_pmk, y_train_balanced_pmk = smote_pmk.fit_resample(X_train_pmk, y_train_pmk)\n",
    "\n",
    "# Calculate the ratio between 0 and 1 in the balanced training set and the test set\n",
    "ratio_train_balanced_pmk = y_train_balanced_pmk.value_counts(normalize=True)\n",
    "ratio_test_pmk = y_test_pmk.value_counts(normalize=True)\n",
    "\n",
    "print(\"Ratio of 0 and 1 inhibitors in the balanced training set:\")\n",
    "print(ratio_train_balanced_pmk)\n",
    "print(\"\\nRatio of 0 and 1 inhibitors in the testing set:\")\n",
    "print(ratio_test_pmk)\n",
    "\n",
    "# Train the Random Forest model with the balanced training set\n",
    "rf_descriptors_pmk = RandomForestClassifier(n_estimators_pmk, random_state=42)\n",
    "\n",
    "# Perform cross-validation\n",
    "cv = StratifiedKFold(n_splits=2, shuffle=False)\n",
    "cv_scores_pmk= cross_val_score(rf_descriptors, X_train_balanced_pmk, y_train_balanced_pmk, cv=cv, scoring='recall')\n",
    "\n",
    "print(f'Cross-Validation Scores: {cv_scores_pmk}')\n",
    "\n",
    "rf_descriptors_pmk.fit(X_train_balanced_pmk, y_train_balanced_pmk)\n",
    "y_pred_pmk = rf_descriptors_pmk.predict(X_test_pmk)\n",
    "\n",
    "# Evaluate the model using a confusion matrix\n",
    "conf_mat_pmk = confusion_matrix(y_test_pmk, y_pred_pmk)\n",
    "print(\"Confusion Matrix:\")\n",
    "print(conf_mat_pmk)\n",
    "print(classification_report(y_test_pmk, y_pred_pmk))"
   ]
  },
  {
   "cell_type": "markdown",
   "metadata": {},
   "source": [
    "## Random forest with fingerprints evaluation"
   ]
  },
  {
   "cell_type": "code",
   "execution_count": 116,
   "metadata": {},
   "outputs": [
    {
     "name": "stdout",
     "output_type": "stream",
     "text": [
      "Ratio of 0 and 1 inhibitors in the balanced training set:\n",
      "0    0.5\n",
      "1    0.5\n",
      "Name: ERK2_inhibition, dtype: float64\n",
      "\n",
      "Ratio of 0 and 1 inhibitors in the testing set:\n",
      "0    0.959821\n",
      "1    0.040179\n",
      "Name: ERK2_inhibition, dtype: float64\n",
      "Cross-Validation Scores: [0.94823529 0.99294118]\n",
      "Confusion Matrix:\n",
      "[[212   3]\n",
      " [  9   0]]\n",
      "              precision    recall  f1-score   support\n",
      "\n",
      "           0       0.96      0.99      0.97       215\n",
      "           1       0.00      0.00      0.00         9\n",
      "\n",
      "    accuracy                           0.95       224\n",
      "   macro avg       0.48      0.49      0.49       224\n",
      "weighted avg       0.92      0.95      0.93       224\n",
      "\n",
      "Ratio of 0 and 1 inhibitors in the balanced training set:\n",
      "0    0.5\n",
      "1    0.5\n",
      "Name: PKM2_inhibition, dtype: float64\n",
      "\n",
      "Ratio of 0 and 1 inhibitors in the testing set:\n",
      "0    0.973214\n",
      "1    0.026786\n",
      "Name: PKM2_inhibition, dtype: float64\n",
      "Cross-Validation Scores: [0.97241379 1.        ]\n",
      "Confusion Matrix:\n",
      "[[217   1]\n",
      " [  6   0]]\n",
      "              precision    recall  f1-score   support\n",
      "\n",
      "           0       0.97      1.00      0.98       218\n",
      "           1       0.00      0.00      0.00         6\n",
      "\n",
      "    accuracy                           0.97       224\n",
      "   macro avg       0.49      0.50      0.49       224\n",
      "weighted avg       0.95      0.97      0.96       224\n",
      "\n"
     ]
    }
   ],
   "source": [
    "#ERK2:\n",
    "# Split the data into training and test sets\n",
    "X_train_erk, X_test_erk, y_train_erk, y_test_erk = train_test_split(X_fingerprints, y_erk2, test_size=0.2)\n",
    "\n",
    "# Apply SMOTE to balance the training set\n",
    "smote_erk = SMOTE(random_state=40)\n",
    "X_train_balanced_finger_erk, y_train_balanced_finger_erk = smote_erk.fit_resample(X_train_erk, y_train_erk)\n",
    "\n",
    "# Calculate the ratio between 0 and 1 in the balanced training set and the test set\n",
    "ratio_train_balanced_erk = y_train_balanced_erk.value_counts(normalize=True)\n",
    "ratio_test_erk = y_test_erk.value_counts(normalize=True)\n",
    "\n",
    "print(\"Ratio of 0 and 1 inhibitors in the balanced training set:\")\n",
    "print(ratio_train_balanced_erk)\n",
    "print(\"\\nRatio of 0 and 1 inhibitors in the testing set:\")\n",
    "print(ratio_test_erk)\n",
    "\n",
    "# Train the Random Forest model with the balanced training set\n",
    "rf_finger_erk = RandomForestClassifier(n_estimators_erk, random_state=42)\n",
    "\n",
    "# Perform cross-validation\n",
    "cv = StratifiedKFold(n_splits=2, shuffle=False)\n",
    "cv_scores = cross_val_score(rf_descriptors, X_train_balanced_finger_erk, y_train_balanced_finger_erk, cv=cv, scoring='recall')\n",
    "\n",
    "print(f'Cross-Validation Scores: {cv_scores}')\n",
    "\n",
    "rf_finger_erk.fit(X_train_balanced_finger_erk, y_train_balanced_finger_erk)\n",
    "y_pred_erk = rf_finger_erk.predict(X_test_erk)\n",
    "\n",
    "# Evaluate the model using a confusion matrix\n",
    "conf_mat_erk = confusion_matrix(y_test_erk, y_pred_erk)\n",
    "print(\"Confusion Matrix:\")\n",
    "print(conf_mat_erk)\n",
    "print(classification_report(y_test_erk, y_pred_erk))\n",
    "\n",
    "\n",
    "#PMK:\n",
    "# Split the data into training and test sets\n",
    "X_train_pmk, X_test_pmk, y_train_pmk, y_test_pmk = train_test_split(X_fingerprints, y_pkm2, test_size=0.2)\n",
    "\n",
    "# Apply SMOTE to balance the training set\n",
    "smote_pmk = SMOTE(random_state=40)\n",
    "X_train_balanced_finger_pmk, y_train_balanced_finger_pmk = smote_pmk.fit_resample(X_train_pmk, y_train_pmk)\n",
    "\n",
    "# Calculate the ratio between 0 and 1 in the balanced training set and the test set\n",
    "ratio_train_balanced_pmk = y_train_balanced_pmk.value_counts(normalize=True)\n",
    "ratio_test_pmk = y_test_pmk.value_counts(normalize=True)\n",
    "\n",
    "print(\"Ratio of 0 and 1 inhibitors in the balanced training set:\")\n",
    "print(ratio_train_balanced_pmk)\n",
    "print(\"\\nRatio of 0 and 1 inhibitors in the testing set:\")\n",
    "print(ratio_test_pmk)\n",
    "\n",
    "# Train the Random Forest model with the balanced training set\n",
    "rf_finger_pmk = RandomForestClassifier(n_estimators_pmk, random_state=42)\n",
    "\n",
    "# Perform cross-validation\n",
    "cv = StratifiedKFold(n_splits=2, shuffle=False)\n",
    "cv_scores_pmk= cross_val_score(rf_descriptors, X_train_balanced_finger_pmk, y_train_balanced_finger_pmk, cv=cv, scoring='recall')\n",
    "\n",
    "print(f'Cross-Validation Scores: {cv_scores_pmk}')\n",
    "\n",
    "rf_finger_pmk.fit(X_train_balanced_finger_pmk, y_train_balanced_finger_pmk)\n",
    "y_pred_pmk = rf_finger_pmk.predict(X_test_pmk)\n",
    "\n",
    "# Evaluate the model using a confusion matrix\n",
    "conf_mat_pmk = confusion_matrix(y_test_pmk, y_pred_pmk)\n",
    "print(\"Confusion Matrix:\")\n",
    "print(conf_mat_pmk)\n",
    "print(classification_report(y_test_pmk, y_pred_pmk))"
   ]
  },
  {
   "cell_type": "markdown",
   "metadata": {},
   "source": [
    "## Random forest with descriptors on actual data"
   ]
  },
  {
   "cell_type": "code",
   "execution_count": 117,
   "metadata": {},
   "outputs": [],
   "source": [
    "rf_descriptors_pmk = RandomForestClassifier(n_estimators_pmk)\n",
    "rf_descriptors_pmk.fit(X_cleaned_pmk, y_pkm2)\n",
    "y_pred_descriptor_pmk = rf_descriptors_pmk.predict(X_untested_cleaned_pmk)\n",
    "df_y_pred_descriptor_pmk=pd.DataFrame(y_pred_descriptor_pmk,index=X.index)\n",
    "\n",
    "rf_descriptors_erk = RandomForestClassifier(n_estimators_erk)\n",
    "rf_descriptors_erk.fit(X_cleaned_erk, y_erk2)\n",
    "y_pred_descriptor_erk = rf_descriptors.predict(X_untested_cleaned_erk)\n",
    "df_y_pred_descriptor_erk=pd.DataFrame(y_pred_descriptor_erk,index=X.index)\n"
   ]
  },
  {
   "cell_type": "markdown",
   "metadata": {},
   "source": [
    "## Random forest with fingerprints on actual data"
   ]
  },
  {
   "cell_type": "code",
   "execution_count": 118,
   "metadata": {},
   "outputs": [],
   "source": [
    "rf_fingerprints_pmk = RandomForestClassifier(n_estimators_pmk)\n",
    "rf_fingerprints_pmk.fit(X_fingerprints, y_pkm2)\n",
    "y_pred_fingerprint_pmk = rf_fingerprints_pmk.predict(X_untested_fingerprints)\n",
    "df_y_pred_fingerprint_pmk=pd.DataFrame(y_pred_fingerprint_pmk,index=X.index)\n",
    "\n",
    "rf_fingerprints_erk = RandomForestClassifier(n_estimators_erk)\n",
    "rf_fingerprints_erk.fit(X_fingerprints, y_erk2)\n",
    "y_pred_fingerprint_erk = rf_fingerprints_erk.predict(X_untested_fingerprints)\n",
    "df_y_pred_fingerprint_erk=pd.DataFrame(y_pred_fingerprint_erk,index=X.index)"
   ]
  },
  {
   "cell_type": "markdown",
   "metadata": {},
   "source": [
    "## Intersect"
   ]
  },
  {
   "cell_type": "code",
   "execution_count": 119,
   "metadata": {},
   "outputs": [
    {
     "data": {
      "text/plain": [
       "Index([], dtype='object', name='SMILES')"
      ]
     },
     "execution_count": 119,
     "metadata": {},
     "output_type": "execute_result"
    }
   ],
   "source": [
    "intersect_pmk=X[(df_y_pred_descriptor_pmk[0]==1)&(df_y_pred_fingerprint_pmk[0]==1)].index\n",
    "intersect_pmk\n",
    "\n",
    "intersect_erk=X[(df_y_pred_descriptor_erk[0]==1)&(df_y_pred_fingerprint_erk[0]==1)].index\n",
    "intersect_erk"
   ]
  },
  {
   "cell_type": "markdown",
   "metadata": {},
   "source": [
    "Writing outcomes to CSV file"
   ]
  },
  {
   "cell_type": "code",
   "execution_count": 120,
   "metadata": {},
   "outputs": [],
   "source": [
    "# df_untested=pd.read_csv('untested_molecules.csv')\n",
    "# for i in range(len(df_untested['SMILES'])):\n",
    "#     molecule=df_untested.loc[i,'SMILES']\n",
    "#     if molecule in intersect:\n",
    "#         df_untested.loc[i,selected_kinase]=1\n",
    "#         print(molecule)\n",
    "#     else:\n",
    "#         df_untested.loc[i,selected_kinase]=0\n",
    "\n",
    "# df_untested.set_index('SMILES', inplace=True)\n",
    "# df_untested.to_csv('predicted_molecules.csv')\n",
    "\n",
    "\n",
    "\n",
    "\n",
    "df_untested=pd.read_csv('untested_molecules.csv')\n",
    "for i in range(len(df_untested['SMILES'])):\n",
    "    molecule=df_untested.loc[i,'SMILES']\n",
    "    if molecule in intersect_erk:\n",
    "        df_untested.loc[i,kinase_ERK2]=1\n",
    "        print(molecule)\n",
    "    else:\n",
    "        df_untested.loc[i,kinase_ERK2]=0\n",
    "\n",
    "df_untested.set_index('SMILES', inplace=True)\n",
    "df_untested.to_csv('predicted_molecules.csv')\n",
    "\n",
    "\n",
    "\n",
    "df_untested=pd.read_csv('untested_molecules.csv')\n",
    "for i in range(len(df_untested['SMILES'])):\n",
    "    molecule=df_untested.loc[i,'SMILES']\n",
    "    if molecule in intersect_pmk:\n",
    "        df_untested.loc[i,kinase_PKM2]=1\n",
    "        print(molecule)\n",
    "    else:\n",
    "        df_untested.loc[i,kinase_PKM2]=0\n",
    "\n",
    "df_untested.set_index('SMILES', inplace=True)\n",
    "df_untested.to_csv('predicted_molecules.csv')\n"
   ]
  }
 ],
 "metadata": {
  "kernelspec": {
   "display_name": "base",
   "language": "python",
   "name": "python3"
  },
  "language_info": {
   "codemirror_mode": {
    "name": "ipython",
    "version": 3
   },
   "file_extension": ".py",
   "mimetype": "text/x-python",
   "name": "python",
   "nbconvert_exporter": "python",
   "pygments_lexer": "ipython3",
   "version": "3.8.8"
  }
 },
 "nbformat": 4,
 "nbformat_minor": 2
}
